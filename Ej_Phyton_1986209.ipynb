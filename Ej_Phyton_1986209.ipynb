{
 "cells": [
  {
   "cell_type": "markdown",
   "metadata": {},
   "source": [
    "## **Ejercicios básicos de Phyton**\n",
    "\n",
    "Alumna: Ana Saraí Dávila Martínez     \n",
    "Matrícula: 1986209  \n",
    "  Minería de datos- Grupo 02\n",
    "\n",
    "### ***Ejercicio 1***\n",
    "\n",
    "Realiza una variable con tu matricula y realiza una secuencia de imprimir con   tu nombre y tu matrícula concatenados."
   ]
  },
  {
   "cell_type": "code",
   "execution_count": 403,
   "metadata": {},
   "outputs": [
    {
     "name": "stdout",
     "output_type": "stream",
     "text": [
      "Ana Saraí Dávila Martínez 1986209\n"
     ]
    }
   ],
   "source": [
    "matricula=1986209\n",
    "name=\"Ana Saraí Dávila Martínez \"\n",
    "print(name+str(matricula))"
   ]
  },
  {
   "cell_type": "markdown",
   "metadata": {},
   "source": [
    "\n",
    "### ***Ejercicio 2***\n",
    "\n",
    "Pidiendo el input del usuario pide dos números y crea una pequeña calculadora con los operadores básicos de suma, resta, multiplicación, división, y exponente.\n"
   ]
  },
  {
   "cell_type": "code",
   "execution_count": 253,
   "metadata": {},
   "outputs": [
    {
     "name": "stdout",
     "output_type": "stream",
     "text": [
      "Ingrese un número: 8\n",
      "Ingrese otro número: 4\n",
      "La suma de 8.0 + 4.0 es 12.0\n",
      "La resta de 8.0 - 4.0 es 4.0\n",
      "La multiplicación de 8.0 * 4.0 es 32.0\n",
      "La division es 8.0 / 4.0 es 2.0\n",
      "El resultado de 8.0 ** 4.0 es 4096.0\n"
     ]
    }
   ],
   "source": [
    "x = float(input(\"Ingrese un número: \") )\n",
    "y = float(input(\"Ingrese otro número: \") )\n",
    "\n",
    "\n",
    "print(\"La suma de\",x,\"+\",y,\"es\",x+y)\n",
    "print(\"La resta de\",x,\"-\",y,\"es\",x-y)\n",
    "print(\"La multiplicación de\",x,\"*\",y,\"es\",x*y)\n",
    "print(\"La division es\",x,\"/\",y,\"es\",x/y)\n",
    "print(\"El resultado de\",x,\"**\",y,\"es\",x**y)\n"
   ]
  },
  {
   "cell_type": "markdown",
   "metadata": {},
   "source": [
    "### ***Ejercicio 3***\n",
    "\n",
    "Con loop while o for, realiza una lista de 10 números múltiplos de 3, y después realiza una función de loop que sume todos los números dentro del arreglo.\n",
    "\n",
    "+ Se usará for como ciclo for"
   ]
  },
  {
   "cell_type": "code",
   "execution_count": 220,
   "metadata": {},
   "outputs": [
    {
     "name": "stdout",
     "output_type": "stream",
     "text": [
      "[3, 6, 9, 12, 15, 18, 21, 24, 27, 30]\n"
     ]
    }
   ],
   "source": [
    "mult3=[]\n",
    "validar= False\n",
    "\n",
    "for i in range (1, 31):\n",
    "\n",
    "    validar = i % 3 == 0\n",
    "    \n",
    "    if (validar):\n",
    "        mult3.append(i)\n",
    "\n",
    "print (mult3)"
   ]
  },
  {
   "cell_type": "markdown",
   "metadata": {},
   "source": [
    "+ Ahora, se procederá a crear una función de loop que sume los números"
   ]
  },
  {
   "cell_type": "code",
   "execution_count": 227,
   "metadata": {},
   "outputs": [
    {
     "name": "stdout",
     "output_type": "stream",
     "text": [
      "La suma de los elementos es 165\n"
     ]
    }
   ],
   "source": [
    "summD=0\n",
    "for i in range(len(mult3)):\n",
    "    summD=summD+mult3[i]\n",
    "print(\"La suma de los elementos es\",summD)\n"
   ]
  },
  {
   "cell_type": "markdown",
   "metadata": {},
   "source": [
    "### ***Ejercicio 4***\n",
    "\n",
    "+ Con una función de if else, revisar si un número es par o es impar."
   ]
  },
  {
   "cell_type": "code",
   "execution_count": 231,
   "metadata": {},
   "outputs": [
    {
     "name": "stdout",
     "output_type": "stream",
     "text": [
      "Ingrese un número 8\n",
      "8 es un número par\n"
     ]
    }
   ],
   "source": [
    "num=int(input(\"Ingrese un número \"))\n",
    "if (num%2)==0:\n",
    "   print(num, \"es un número par\")\n",
    "else:\n",
    "    print(num,\"es un numero impar\")"
   ]
  },
  {
   "cell_type": "markdown",
   "metadata": {},
   "source": [
    "+ Con una función de if else, revisar si un número es primo o no."
   ]
  },
  {
   "cell_type": "code",
   "execution_count": 251,
   "metadata": {},
   "outputs": [
    {
     "name": "stdout",
     "output_type": "stream",
     "text": [
      "Ingrese un número 8\n",
      "un divisor de  8 es 2\n",
      "un divisor de  8 es 4\n",
      "8 no es un número primo\n"
     ]
    }
   ],
   "source": [
    "numm= int(input(\"Ingrese un número \"))\n",
    "cont = 0\n",
    "for n in range(2,numm):\n",
    "  if numm % n == 0:\n",
    "    cont=cont+1\n",
    "    print(\"un divisor de \",numm,\"es\", n)\n",
    " \n",
    "if cont > 0 :\n",
    "  print(numm,\"no es un número primo\" )\n",
    "else:\n",
    "  print(num, \"es un número es primo\")"
   ]
  },
  {
   "cell_type": "markdown",
   "metadata": {},
   "source": [
    "### ***Ejercicio 5***\n",
    "\n",
    "Utilizando diferentes clases en python, crea una calculadora con los operadores básicos de suma, resta, multiplicación, división, y exponente."
   ]
  },
  {
   "cell_type": "code",
   "execution_count": 410,
   "metadata": {},
   "outputs": [
    {
     "name": "stdout",
     "output_type": "stream",
     "text": [
      "Introduzca el primer número 15\n",
      "Introduzca el segundo número 12\n",
      "0. Salir\n",
      "1. Sumar\n",
      "2. Restar\n",
      "3. Multiplication\n",
      "4. Division\n",
      "5. Exponente\n",
      "Ingrese la operación aritmética que desea efectuar 1\n",
      "La suma de  15 + 12 es 27\n",
      "0. Salir\n",
      "1. Sumar\n",
      "2. Restar\n",
      "3. Multiplication\n",
      "4. Division\n",
      "5. Exponente\n",
      "Ingrese la operación aritmética que desea efectuar 2\n",
      "La resta de 15 - 12 es 3\n",
      "0. Salir\n",
      "1. Sumar\n",
      "2. Restar\n",
      "3. Multiplication\n",
      "4. Division\n",
      "5. Exponente\n",
      "Ingrese la operación aritmética que desea efectuar 4\n",
      "La división de 15 / 12 es 1.25\n",
      "0. Salir\n",
      "1. Sumar\n",
      "2. Restar\n",
      "3. Multiplication\n",
      "4. Division\n",
      "5. Exponente\n",
      "Ingrese la operación aritmética que desea efectuar 5\n",
      "El resultado de 15 ** 12 es 129746337890625\n",
      "0. Salir\n",
      "1. Sumar\n",
      "2. Restar\n",
      "3. Multiplication\n",
      "4. Division\n",
      "5. Exponente\n",
      "Ingrese la operación aritmética que desea efectuar 0\n",
      "Usted está saliendo\n",
      "\n"
     ]
    }
   ],
   "source": [
    "class calcular():\n",
    "    def __init__(op,x,y):\n",
    "        op.x=x\n",
    "        op.y=y\n",
    "    def suma(op):\n",
    "        return op.x+op.y\n",
    "    def res(op):\n",
    "        return op.x-op.y\n",
    "    def mul(op):\n",
    "        return op.x*op.y\n",
    "    def div(op):\n",
    "        return op.x/op.y\n",
    "    def exp(op):\n",
    "        return op.x**op.y\n",
    "    \n",
    "x=int(input(\"Introduzca el primer número \"))\n",
    "y=int(input(\"Introduzca el segundo número \"))\n",
    "obj=calcular(x,y)\n",
    "opcion=1\n",
    "while opcion!=0:\n",
    "    print(\"0. Salir\")\n",
    "    print(\"1. Sumar\")\n",
    "    print(\"2. Restar\")\n",
    "    print(\"3. Multiplication\")\n",
    "    print(\"4. Division\")\n",
    "    print(\"5. Exponente\")\n",
    "    opcion=int(input(\"Ingrese la operación aritmética que desea efectuar \"))\n",
    "    if opcion==0:\n",
    "        print(\"Usted está saliendo\")\n",
    "        break\n",
    "    elif opcion==1:\n",
    "        print(\"La suma de \",x, \"+\",y,\"es\", obj.suma())\n",
    "    elif opcion==2:\n",
    "        print(\"La resta de\",x, \"-\",y, \"es\",obj.res())\n",
    "    elif opcion==3:\n",
    "        print(\"La multiplicación de\",x,\"*\",y,\"es\",obj.mul())\n",
    "    elif opcion==4:\n",
    "        print(\"La división de\",x,\"/\",y,\"es\",obj.div())\n",
    "    elif opcion==5:\n",
    "        print(\"El resultado de\",x,\"**\",y, \"es\",obj.exp())\n",
    "    else:\n",
    "        print(\"Error, por favor introduzca una opción valida\")\n",
    " \n",
    " \n",
    "print()\n",
    "#Página que se ha usado como base https://stackoverflow.com/questions/40312645/python-creating-a-calculator-class"
   ]
  },
  {
   "cell_type": "markdown",
   "metadata": {},
   "source": [
    "---\n",
    "## **Ejercicios con estructuras básicas de Phyton**\n",
    "\n",
    "### **Tuplas**"
   ]
  },
  {
   "cell_type": "markdown",
   "metadata": {},
   "source": [
    "*Las tuplas son objetos iterativos, son inmutables y se identifican mediante parentesís*\n",
    "\n",
    "+ Crear una variable flotante, integer, boleana y compleja e imprimir el tipo de variable que es."
   ]
  },
  {
   "cell_type": "code",
   "execution_count": 27,
   "metadata": {
    "scrolled": true
   },
   "outputs": [
    {
     "name": "stdout",
     "output_type": "stream",
     "text": [
      "La variable es 98.93 y es de tipo <class 'float'>\n",
      "La variable es 751 y es de tipo <class 'int'>\n",
      "La variable es True y es de tipo <class 'bool'>\n",
      "La variable es (657+4j) y es de tipo <class 'complex'>\n"
     ]
    }
   ],
   "source": [
    "x=98.93 \n",
    "tipo1=type(x)\n",
    "print (\"La variable es\",x, \"y es de tipo\",tipo1)\n",
    "\n",
    "y=751 \n",
    "tipo2=type(y)\n",
    "print(\"La variable es\",y, \"y es de tipo\", tipo2)\n",
    "\n",
    "IscodingFun=True \n",
    "tipo3=type(IscodingFun)\n",
    "print(\"La variable es\",IscodingFun,\"y es de tipo\",tipo3)\n",
    "\n",
    "Complex=657+4j \n",
    "tipo4=type(Complex)\n",
    "print(\"La variable es\", Complex, \"y es de tipo\", tipo4)"
   ]
  },
  {
   "cell_type": "markdown",
   "metadata": {},
   "source": [
    "+ Crear una tupla con valores enteros imprimir el primer y último valor."
   ]
  },
  {
   "cell_type": "code",
   "execution_count": 416,
   "metadata": {},
   "outputs": [
    {
     "name": "stdout",
     "output_type": "stream",
     "text": [
      "El primer valor de la tupla es 1 y el último valor es 21\n",
      "La variable 13 existe en la tupla\n"
     ]
    }
   ],
   "source": [
    "T1=(1,1,2,3,5,8,13,21)\n",
    "first=T1[0] \n",
    "last=T1[7]\n",
    "print(\"El primer valor de la tupla es\",first, \"y el último valor es\",last)\n",
    "#Verificar si existe una variable dentro de la tupla\n",
    "if 13 in T1:\n",
    "    print(\"La variable 13 existe en la tupla\")\n",
    "else:\n",
    "    print(\"La variable 13 no existe en la tupla\")"
   ]
  },
  {
   "cell_type": "markdown",
   "metadata": {},
   "source": [
    "+ Añadir 3 valores de string a la tupla."
   ]
  },
  {
   "cell_type": "code",
   "execution_count": 30,
   "metadata": {
    "scrolled": false
   },
   "outputs": [
    {
     "name": "stdout",
     "output_type": "stream",
     "text": [
      "La tupla modificada es: (1, 1, 2, 3, 5, 8, 13, 21, 'data', 'mining', 'class')\n"
     ]
    }
   ],
   "source": [
    "T1=T1+(\"data\",\"mining\",\"class\")\n",
    "print(\"La tupla modificada es:\" ,T1)"
   ]
  },
  {
   "cell_type": "markdown",
   "metadata": {},
   "source": [
    "+ Verificar si una variable existe dentro de la tupla."
   ]
  },
  {
   "cell_type": "code",
   "execution_count": 417,
   "metadata": {},
   "outputs": [
    {
     "name": "stdout",
     "output_type": "stream",
     "text": [
      "Introduzca el número que desee verificar si está en la tupla: 13\n",
      "La variable 13 existe en la tupla\n"
     ]
    }
   ],
   "source": [
    "x=int(input(\"Introduzca el número que desee verificar si está en la tupla: \"))\n",
    "if x in T1:\n",
    "    print(\"La variable\", x, \"existe en la tupla\")\n",
    "else:\n",
    "    print(\"La variable\", x, \"no existe en la tupla\")"
   ]
  },
  {
   "cell_type": "markdown",
   "metadata": {},
   "source": [
    "### **Listas**\n",
    "\n",
    "*Las listas incluyen elementos de varios tipos, son parecidas a las tuplas, pero son mutables, es decir se puede agregar o eliminar elementos*\n",
    "\n",
    "+ Crear una lista con 40 elementos aleatorios enteros."
   ]
  },
  {
   "cell_type": "code",
   "execution_count": 368,
   "metadata": {},
   "outputs": [
    {
     "name": "stdout",
     "output_type": "stream",
     "text": [
      "[970, 518, 482, 869, 458, 597, 595, 520, 741, 719, 360, 948, 499, 59, 258, 690, 40, 588, 713, 988, 683, 418, 318, 77, 29, 349, 113, 503, 404, 174, 716, 220, 833, 363, 695, 928, 904, 685, 978, 991]\n"
     ]
    }
   ],
   "source": [
    "import random\n",
    "\n",
    "n=40\n",
    "RandomList = [random.randint(0,1000) for _ in range(n)]\n",
    "print(RandomList) \n",
    "#Basado en la página https://es.stackoverflow.com/questions/124063/crear-una-lista-de-numeros-aleatorios-en-python"
   ]
  },
  {
   "cell_type": "markdown",
   "metadata": {},
   "source": [
    "+ Con una funcion (def) crear dos listas nuevas a partir de la lista creada por números aleatorios, en la cual en una estén los elementos pares, y en la otra los elementos impares"
   ]
  },
  {
   "cell_type": "code",
   "execution_count": 369,
   "metadata": {},
   "outputs": [
    {
     "name": "stdout",
     "output_type": "stream",
     "text": [
      "La lista de los elementos pares es  [970, 932, 886, 854, 836, 820, 808, 806, 652, 638, 620, 540, 504, 462, 448, 426, 318, 286, 284, 236, 46, 8] \n",
      "\n",
      "La lista de los elementos impares es [23, 85, 87, 137, 251, 273, 423, 515, 529, 541, 635, 687, 701, 719, 795, 907, 971, 991]\n"
     ]
    }
   ],
   "source": [
    "def validar(RandomList):\n",
    "    pair=[]\n",
    "    odd=[]\n",
    "    for i in range(len(RandomList)):\n",
    "        if RandomList[i]%2==0:\n",
    "            pair.append(RandomList[i])\n",
    "        else:\n",
    "            odd.append(RandomList[i])\n",
    "    return pair,odd\n",
    "\n",
    "print(\"La lista de los elementos pares es \",pair,\"\\n\")\n",
    "print(\"La lista de los elementos impares es\",odd)"
   ]
  },
  {
   "cell_type": "markdown",
   "metadata": {},
   "source": [
    "+ Crear dos variables con la longitud de ambas listas nuevas e imprimir las variables."
   ]
  },
  {
   "cell_type": "code",
   "execution_count": 370,
   "metadata": {},
   "outputs": [
    {
     "name": "stdout",
     "output_type": "stream",
     "text": [
      "La longitud de la lista de números pares es 22 \n",
      "\n",
      "La longitud de la lista de números impares es 22\n"
     ]
    }
   ],
   "source": [
    "numPair=len(pair)\n",
    "numOdd=len(odd)\n",
    "print(\"La longitud de la lista de números pares es\",numPair,\"\\n\")\n",
    "print(\"La longitud de la lista de números impares es\",numPair)"
   ]
  },
  {
   "cell_type": "markdown",
   "metadata": {},
   "source": [
    "+ Ordenar los elementos de la lista par de mayor a menor, y los de la lista impar de menor a mayor."
   ]
  },
  {
   "cell_type": "code",
   "execution_count": 371,
   "metadata": {},
   "outputs": [
    {
     "name": "stdout",
     "output_type": "stream",
     "text": [
      "La lista ordenada de números pares de mayor a menor es [970, 932, 886, 854, 836, 820, 808, 806, 652, 638, 620, 540, 504, 462, 448, 426, 318, 286, 284, 236, 46, 8] \n",
      "\n",
      "La lista ordenada de números impares de menor a mayor es [23, 85, 87, 137, 251, 273, 423, 515, 529, 541, 635, 687, 701, 719, 795, 907, 971, 991]\n"
     ]
    }
   ],
   "source": [
    "pair.sort(reverse=True)\n",
    "print(\"La lista ordenada de números pares de mayor a menor es\", pair,\"\\n\")\n",
    "odd.sort()\n",
    "print(\"La lista ordenada de números impares de menor a mayor es\",odd)"
   ]
  },
  {
   "cell_type": "markdown",
   "metadata": {},
   "source": [
    "Utilizar al menos cuatro de las funciones de listas en python en la lista original de 40 elementos.\n",
    "\n",
    "Las funciones que se usarán son:\n",
    "+ append()\n",
    "+ insert()\n",
    "+ remove()\n",
    "+ pop()\n",
    "+ extend()"
   ]
  },
  {
   "cell_type": "markdown",
   "metadata": {},
   "source": [
    "### *append()*\n",
    "*Agrega elementos a la lista*"
   ]
  },
  {
   "cell_type": "code",
   "execution_count": 372,
   "metadata": {},
   "outputs": [
    {
     "name": "stdout",
     "output_type": "stream",
     "text": [
      "Con la función append se imprime la lista \n",
      " [970, 518, 482, 869, 458, 597, 595, 520, 741, 719, 360, 948, 499, 59, 258, 690, 40, 588, 713, 988, 683, 418, 318, 77, 29, 349, 113, 503, 404, 174, 716, 220, 833, 363, 695, 928, 904, 685, 978, 991, 'science']\n"
     ]
    }
   ],
   "source": [
    "RandomList.append(\"science\")\n",
    "print(\"Con la función append se imprime la lista \\n\",RandomList)"
   ]
  },
  {
   "cell_type": "markdown",
   "metadata": {},
   "source": [
    "### insert()\n",
    "*Agregar un item a una especifica locación en la lista*"
   ]
  },
  {
   "cell_type": "code",
   "execution_count": 373,
   "metadata": {},
   "outputs": [
    {
     "name": "stdout",
     "output_type": "stream",
     "text": [
      "La nueva lista es: \n",
      " [970, (64, 11, 26, 300), 518, 482, 869, 458, 597, 595, 520, 741, 719, 360, 948, 499, 59, 258, 690, 40, 588, 713, 988, 683, 418, 318, 77, 29, 349, 113, 503, 404, 174, 716, 220, 833, 363, 695, 928, 904, 685, 978, 991, 'science']\n"
     ]
    }
   ],
   "source": [
    "T3=(64,11,26,300)\n",
    "RandomList.insert(1,T3)\n",
    "print(\"La nueva lista es: \\n\",RandomList)"
   ]
  },
  {
   "cell_type": "markdown",
   "metadata": {},
   "source": [
    "### remove ()\n",
    "*Remueve un elemento de una especifica locación en la lista*"
   ]
  },
  {
   "cell_type": "code",
   "execution_count": 374,
   "metadata": {},
   "outputs": [
    {
     "name": "stdout",
     "output_type": "stream",
     "text": [
      "La lista actualizada es \n",
      " [970, (64, 11, 26, 300), 518, 482, 869, 458, 597, 595, 520, 741, 719, 360, 948, 499, 59, 258, 690, 40, 588, 713, 988, 683, 418, 318, 77, 29, 349, 113, 503, 404, 174, 716, 220, 833, 363, 695, 928, 904, 685, 978, 991]\n"
     ]
    }
   ],
   "source": [
    "RandomList.remove(\"science\")\n",
    "print(\"La lista actualizada es \\n\",RandomList)"
   ]
  },
  {
   "cell_type": "markdown",
   "metadata": {},
   "source": [
    "### pop()\n",
    "*Remueve un elementos de una especifica locación en la lista*"
   ]
  },
  {
   "cell_type": "code",
   "execution_count": 375,
   "metadata": {},
   "outputs": [
    {
     "name": "stdout",
     "output_type": "stream",
     "text": [
      "La lista sin el antepenúltimo elemento es [970, (64, 11, 26, 300), 518, 482, 869, 458, 597, 595, 520, 741, 719, 360, 948, 499, 59, 258, 690, 40, 588, 713, 988, 683, 418, 318, 77, 29, 349, 113, 503, 404, 174, 716, 220, 833, 363, 695, 928, 904, 978, 991]\n"
     ]
    }
   ],
   "source": [
    "RandomList.pop(-3)\n",
    "print(\"La lista sin el antepenúltimo elemento es\",RandomList)"
   ]
  },
  {
   "cell_type": "markdown",
   "metadata": {},
   "source": [
    "### extend()\n",
    "*Combina dos listas*"
   ]
  },
  {
   "cell_type": "code",
   "execution_count": 376,
   "metadata": {},
   "outputs": [
    {
     "name": "stdout",
     "output_type": "stream",
     "text": [
      "La lista actualizada es \n",
      " [970, (64, 11, 26, 300), 518, 482, 869, 458, 597, 595, 520, 741, 719, 360, 948, 499, 59, 258, 690, 40, 588, 713, 988, 683, 418, 318, 77, 29, 349, 113, 503, 404, 174, 716, 220, 833, 363, 695, 928, 904, 978, 991, 76, 423, 64575, 'Data']\n"
     ]
    }
   ],
   "source": [
    "Agregar=[76,423,64575,\"Data\"]\n",
    "RandomList.extend(Agregar)\n",
    "print(\"La lista actualizada es \\n\",RandomList)"
   ]
  },
  {
   "cell_type": "markdown",
   "metadata": {},
   "source": [
    "### **Diccionarios**"
   ]
  },
  {
   "cell_type": "markdown",
   "metadata": {},
   "source": [
    "*Los diccionarios son estructuras de datos, almacenan pares de clave-valor, no se pueden ordenar y son mutables.*\n",
    "\n",
    "+ Crear un diccionario de 6 personas que conozcas con su primer nombre y su edad."
   ]
  },
  {
   "cell_type": "code",
   "execution_count": 377,
   "metadata": {},
   "outputs": [
    {
     "data": {
      "text/plain": [
       "{'Milena': 20,\n",
       " 'Jose': 22,\n",
       " 'Diana': 39,\n",
       " 'Julian': 18,\n",
       " 'Marco': 31,\n",
       " 'Jessica': 55}"
      ]
     },
     "execution_count": 377,
     "metadata": {},
     "output_type": "execute_result"
    }
   ],
   "source": [
    "dict1={'Milena':20,'Jose':22,'Diana':39,'Julian':18,'Marco':31,'Jessica':55}\n",
    "dict1"
   ]
  },
  {
   "cell_type": "markdown",
   "metadata": {},
   "source": [
    "+ Crear una lista con los valores de la edad y reacomodar la lista de menor a mayor valor."
   ]
  },
  {
   "cell_type": "code",
   "execution_count": 55,
   "metadata": {},
   "outputs": [
    {
     "name": "stdout",
     "output_type": "stream",
     "text": [
      "La lista de las edades de menor a mayor es: [18, 20, 22, 31, 39, 55]\n"
     ]
    }
   ],
   "source": [
    "Orden=sorted(dict1.values())\n",
    "print(\"La lista de las edades de menor a mayor es:\",Orden)"
   ]
  },
  {
   "cell_type": "markdown",
   "metadata": {},
   "source": [
    "+ Usando el diccionario y un loop, imprimir solo los nombres."
   ]
  },
  {
   "cell_type": "code",
   "execution_count": 56,
   "metadata": {},
   "outputs": [
    {
     "name": "stdout",
     "output_type": "stream",
     "text": [
      "Milena\n",
      "Jose\n",
      "Diana\n",
      "Julian\n",
      "Marco\n",
      "Jessica\n"
     ]
    }
   ],
   "source": [
    "#Fuente auxiliar:http://elclubdelautodidacta.es/wp/2012/08/python-recorriendo-un-diccionario-de-principio-a-fin/\n",
    "for dict1 in dict1:    \n",
    "    print(dict1)\n"
   ]
  },
  {
   "cell_type": "markdown",
   "metadata": {},
   "source": [
    "+ Añadir dos personas nuevas a tu diccionario, incluyendo edad."
   ]
  },
  {
   "cell_type": "code",
   "execution_count": 62,
   "metadata": {},
   "outputs": [
    {
     "name": "stdout",
     "output_type": "stream",
     "text": [
      "El nuevo diccionario es: {'Milena': 20, 'Jose': 22, 'Diana': 39, 'Julian': 18, 'Marco': 31, 'Jessica': 55, 'Denisse': 19, 'Abril': 5, 'Miriam': 45}\n"
     ]
    }
   ],
   "source": [
    "dict1['Denisse']=19\n",
    "dict1['Abril']=5\n",
    "dict1['Miriam']=45\n",
    "print(\"El nuevo diccionario es:\",dict1)"
   ]
  },
  {
   "cell_type": "markdown",
   "metadata": {},
   "source": [
    "## **Sets**"
   ]
  },
  {
   "cell_type": "markdown",
   "metadata": {},
   "source": [
    "*Los sets son estructuras que contienen articulos no duplicados y son inmutables*"
   ]
  },
  {
   "cell_type": "markdown",
   "metadata": {},
   "source": [
    "+ Crea un set con 100 números aleatorios enteros del 1 al 25."
   ]
  },
  {
   "cell_type": "code",
   "execution_count": 386,
   "metadata": {},
   "outputs": [
    {
     "name": "stdout",
     "output_type": "stream",
     "text": [
      "{1, 6, 9, 17, 26, 27, 30, 36, 48, 49, 51, 63, 65, 66, 70, 72, 73, 75, 80, 83, 84, 90, 92, 93, 98}\n"
     ]
    }
   ],
   "source": [
    "import random\n",
    "set1=set()\n",
    "while len(set1) < 25:\n",
    "    set1.add((random.randint(0,100)))\n",
    "print(set1)"
   ]
  },
  {
   "cell_type": "markdown",
   "metadata": {},
   "source": [
    "+ Comprueba la longitud de tu set."
   ]
  },
  {
   "cell_type": "code",
   "execution_count": 387,
   "metadata": {},
   "outputs": [
    {
     "name": "stdout",
     "output_type": "stream",
     "text": [
      "25\n"
     ]
    }
   ],
   "source": [
    "print(len(set1))"
   ]
  },
  {
   "cell_type": "markdown",
   "metadata": {},
   "source": [
    "+ Crea una lista de 5 números aleatorios del 1 al 10 y comprueba si cada valor aparece en el set inicial."
   ]
  },
  {
   "cell_type": "code",
   "execution_count": 388,
   "metadata": {},
   "outputs": [
    {
     "data": {
      "text/plain": [
       "[4, 1, 9, 7, 3]"
      ]
     },
     "execution_count": 388,
     "metadata": {},
     "output_type": "execute_result"
    }
   ],
   "source": [
    "import random\n",
    "lista1=list(random.sample(range(1,11), 5))\n",
    "lista1\n",
    "\n",
    "  "
   ]
  },
  {
   "cell_type": "code",
   "execution_count": 400,
   "metadata": {},
   "outputs": [
    {
     "name": "stdout",
     "output_type": "stream",
     "text": [
      "El elemento 4 y NO aparece en el set inicial\n",
      "El elemento 1 y si aparece en el set inicial\n",
      "El elemento 9 y si aparece en el set inicial\n",
      "El elemento 7 y NO aparece en el set inicial\n",
      "El elemento 3 y NO aparece en el set inicial\n"
     ]
    }
   ],
   "source": [
    "for i in range(len(lista1)):\n",
    "    \n",
    "    if lista1[i] in set1:\n",
    "        z=lista1[i]\n",
    "        print(\"El elemento\",z, \"y si aparece en el set inicial\")\n",
    "    else:\n",
    "        z=lista1[i]\n",
    "        print(\"El elemento\",z, \"y NO aparece en el set inicial\")"
   ]
  },
  {
   "cell_type": "code",
   "execution_count": 415,
   "metadata": {},
   "outputs": [],
   "source": [
    "# Libro que se ha usado como auxiliar es \"Phyton for data Mining Quick Syntax Reference\" de Valentina-Porcu\n"
   ]
  }
 ],
 "metadata": {
  "kernelspec": {
   "display_name": "Python 3",
   "language": "python",
   "name": "python3"
  }
 },
 "nbformat": 4,
 "nbformat_minor": 4
}
